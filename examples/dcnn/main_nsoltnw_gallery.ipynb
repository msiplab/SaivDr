{
 "metadata": {
  "language_info": {
   "codemirror_mode": {
    "name": "ipython",
    "version": 3
   },
   "file_extension": ".py",
   "mimetype": "text/x-python",
   "name": "python",
   "nbconvert_exporter": "python",
   "pygments_lexer": "ipython3",
   "version": 3
  },
  "orig_nbformat": 2
 },
 "nbformat": 4,
 "nbformat_minor": 2,
 "cells": [
  {
   "source": [
    "# NSOLT Network Gallery\n",
    " \n",
    " Please do not forget to run *setpath* in the top directory of this package, and then return to this directory.\n",
    " \n",
    " Requirements: MATLAB R2020a\n",
    " \n",
    " \n",
    " \n",
    " Contact address: Shogo MURAMATSU,\n",
    " Faculty of Engineering, Niigata University,\n",
    " 8050 2-no-cho Ikarashi, Nishi-ku,\n",
    " Niigata, 950-2181, JAPAN\n",
    " \n",
    " <http://msiplab.eng.niigata-u.ac.jp http://siplab.eng.niigata-u.ac.jp>  \n",
    " \n",
    " \n",
    " Copyright (c) 2021, Shogo MURAMATSU, All rights reserved.\n",
    "\n",
    "%% Preparation\n"
   ],
   "cell_type": "markdown",
   "metadata": {}
  }
 ]
}